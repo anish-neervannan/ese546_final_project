{
  "nbformat": 4,
  "nbformat_minor": 0,
  "metadata": {
    "colab": {
      "name": "ese546_final_project.ipynb",
      "provenance": [],
      "collapsed_sections": [],
      "include_colab_link": true
    },
    "kernelspec": {
      "name": "python3",
      "display_name": "Python 3"
    },
    "accelerator": "GPU"
  },
  "cells": [
    {
      "cell_type": "markdown",
      "metadata": {
        "id": "view-in-github",
        "colab_type": "text"
      },
      "source": [
        "<a href=\"https://colab.research.google.com/github/anish-neervannan/ese546_final_project/blob/main/ese546_final_project.ipynb\" target=\"_parent\"><img src=\"https://colab.research.google.com/assets/colab-badge.svg\" alt=\"Open In Colab\"/></a>"
      ]
    },
    {
      "cell_type": "markdown",
      "metadata": {
        "id": "Jmx5-JwjHA0d"
      },
      "source": [
        "## **ESE 546 Final Project: The Effect of Genetic Algorithms on Long Short Term Memory Networks with Attention Modules**\n",
        "\n",
        "### **Authors**\n",
        "- Anish Neervannan (PennKey: anishrn)\n",
        "- Vinay Senthil (PennKey: vinayksk)\n",
        "- Bhaskar Abhiraman (PennKey: bhaskara)"
      ]
    },
    {
      "cell_type": "markdown",
      "metadata": {
        "id": "7XctToBR7_oj"
      },
      "source": [
        "### **Import Kaggle Dataset**\n",
        "\n",
        "1. Use Chrome Extension \"[Get cookies.txt](https://chrome.google.com/webstore/detail/get-cookiestxt/bgaddhkoddajcdgocldbbfleckgcbcid?utm_campaign=en&utm_source=en-ha-na-us-bk-ext&utm_medium=ha)\" to download cookies from [here](https://www.kaggle.com/borismarjanovic/price-volume-data-for-all-us-stocks-etfs) after logging in.\n",
        "2. Save the file as \"cookies.txt\" and upload it in the next cell.\n",
        "3. A version of \"cookies.txt\" is also in the shared Drive for this project."
      ]
    },
    {
      "cell_type": "code",
      "metadata": {
        "colab": {
          "resources": {
            "http://localhost:8080/nbextensions/google.colab/files.js": {
              "data": "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",
              "ok": true,
              "headers": [
                [
                  "content-type",
                  "application/javascript"
                ]
              ],
              "status": 200,
              "status_text": ""
            }
          },
          "base_uri": "https://localhost:8080/",
          "height": 73
        },
        "id": "GR_ucpJ_-1DF",
        "outputId": "521592e3-a58d-43a7-f73f-e08cc09727c2"
      },
      "source": [
        "from google.colab import files\n",
        "\n",
        "uploaded = files.upload()"
      ],
      "execution_count": 1,
      "outputs": [
        {
          "output_type": "display_data",
          "data": {
            "text/html": [
              "\n",
              "     <input type=\"file\" id=\"files-865ead4b-752c-4b01-912a-bcc1f5b239b8\" name=\"files[]\" multiple disabled\n",
              "        style=\"border:none\" />\n",
              "     <output id=\"result-865ead4b-752c-4b01-912a-bcc1f5b239b8\">\n",
              "      Upload widget is only available when the cell has been executed in the\n",
              "      current browser session. Please rerun this cell to enable.\n",
              "      </output>\n",
              "      <script src=\"/nbextensions/google.colab/files.js\"></script> "
            ],
            "text/plain": [
              "<IPython.core.display.HTML object>"
            ]
          },
          "metadata": {
            "tags": []
          }
        },
        {
          "output_type": "stream",
          "text": [
            "Saving cookies.txt to cookies.txt\n"
          ],
          "name": "stdout"
        }
      ]
    },
    {
      "cell_type": "markdown",
      "metadata": {
        "id": "PS36Ba14A6Tt"
      },
      "source": [
        "This cell imports all the data (492 MB) straight from Kaggle to the Colab workspace."
      ]
    },
    {
      "cell_type": "code",
      "metadata": {
        "id": "Z-8p4bst_t_F"
      },
      "source": [
        "!wget -x --load-cookies cookies.txt \"https://www.kaggle.com/borismarjanovic/price-volume-data-for-all-us-stocks-etfs/download\" -O data.zip\n",
        "!unzip data.zip"
      ],
      "execution_count": null,
      "outputs": []
    },
    {
      "cell_type": "markdown",
      "metadata": {
        "id": "BWSQ_F3ANV9Z"
      },
      "source": [
        "For example, graph AAPL over time."
      ]
    },
    {
      "cell_type": "code",
      "metadata": {
        "colab": {
          "base_uri": "https://localhost:8080/",
          "height": 504
        },
        "id": "KlPxJtqwFyqf",
        "outputId": "8164312f-4160-4fe1-c40c-eacdc220737a"
      },
      "source": [
        "import pandas as pd\n",
        "import matplotlib.pyplot as plt\n",
        "plt.style.use('seaborn')\n",
        "\n",
        "aapl_data = pd.read_csv(\"Stocks/aapl.us.txt\")\n",
        "print(aapl_data.head())\n",
        "plt.plot(aapl_data.Open);\n",
        "plt.xlabel(\"Days since Sept 7 1984\")\n",
        "plt.ylabel(\"Opening Price (USD)\");\n",
        "plt.title(\"AAPL Opening Price Over Time\")"
      ],
      "execution_count": 19,
      "outputs": [
        {
          "output_type": "stream",
          "text": [
            "         Date     Open     High      Low    Close    Volume  OpenInt\n",
            "0  1984-09-07  0.42388  0.42902  0.41874  0.42388  23220030        0\n",
            "1  1984-09-10  0.42388  0.42516  0.41366  0.42134  18022532        0\n",
            "2  1984-09-11  0.42516  0.43668  0.42516  0.42902  42498199        0\n",
            "3  1984-09-12  0.42902  0.43157  0.41618  0.41618  37125801        0\n",
            "4  1984-09-13  0.43927  0.44052  0.43927  0.43927  57822062        0\n"
          ],
          "name": "stdout"
        },
        {
          "output_type": "execute_result",
          "data": {
            "text/plain": [
              "Text(0.5, 1.0, 'AAPL Opening Price Over Time')"
            ]
          },
          "metadata": {
            "tags": []
          },
          "execution_count": 19
        },
        {
          "output_type": "display_data",
          "data": {
            "image/png": "[encoded data removed]",
            "text/plain": [
              "<Figure size 576x396 with 1 Axes>"
            ]
          },
          "metadata": {
            "tags": []
          }
        }
      ]
    },
    {
      "cell_type": "markdown",
      "metadata": {
        "id": "-7rRNQlzOZcz"
      },
      "source": [
        "### **LSTM for Numerical Sequences**\n",
        "\n",
        "### To do:\n",
        "\n",
        "\n",
        "*   Plagiarize less - everything is mostly changed except: (1) get_batch to process multiple batches, (2) change LSTM() network architecture (maybe use the one from earlier homework), (3) change eval code, (4) why is test_data not scaled?\n",
        "*   Validation metrics (MAE per sector)\n",
        "*   Preprocess all stock data by sector/S&P\n",
        "*   Implement mini-batching (looking at fixed-length sequences of various stocks)\n",
        "*   Characterize base LSTM\n",
        "*   Attention\n",
        "*   Get S&P 500 info/sector info/stock symbols\n",
        "\n",
        "LSTM for Numerical Sequences based on:\n",
        "https://stackabuse.com/time-series-prediction-using-lstm-with-pytorch-in-python/\n"
      ]
    },
    {
      "cell_type": "code",
      "metadata": {
        "id": "xLJqwJJTTkHV"
      },
      "source": [
        "# from sklearn import preprocessing\n",
        "from sklearn.preprocessing import MinMaxScaler\n",
        "\n",
        "import seaborn as sns\n",
        "import numpy as np\n",
        "import pandas as pd\n",
        "import matplotlib.pyplot as plt\n",
        "import torch\n",
        "import torch.nn as nn\n",
        "\n",
        "device = torch.device('cuda' if torch.cuda.is_available() else 'cpu')"
      ],
      "execution_count": 4,
      "outputs": []
    },
    {
      "cell_type": "code",
      "metadata": {
        "id": "BJBJtwcMTsPq"
      },
      "source": [
        "# Preprocess the data, select the appropriate stocks and convert to numpy\n",
        "# Rescale training data between -1 and 1\n",
        "stock = 'aapl'\n",
        "stock_pd_frame = pd.read_csv(\"Stocks/{}.us.txt\".format(stock))\n",
        "stock_np = np.asarray(stock_pd_frame.Open)\n",
        "\n",
        "train_size = 500\n",
        "test_size = 12\n",
        "\n",
        "train_data = stock_np[-train_size-test_size:-test_size]\n",
        "test_data = stock_np[-test_size:]\n",
        "\n",
        "scaler = MinMaxScaler(feature_range=(-1, 1))\n",
        "train_data_normalized = scaler.fit_transform(train_data.reshape(-1, 1))"
      ],
      "execution_count": 5,
      "outputs": []
    },
    {
      "cell_type": "code",
      "metadata": {
        "id": "FSSvyGQnUIxI"
      },
      "source": [
        "# helper method to get a training sequence starting at a particular point in the sequence\n",
        "def get_batch(input_data, seq_len, i):\n",
        "    train_seq = input_data[i:i+seq_len]\n",
        "    train_label = input_data[i+seq_len:i+seq_len+1]\n",
        "    return (train_seq ,train_label)"
      ],
      "execution_count": 6,
      "outputs": []
    },
    {
      "cell_type": "code",
      "metadata": {
        "id": "XCE3t3DqUKrg"
      },
      "source": [
        "# LSTM class module defined\n",
        "class LSTM(nn.Module):\n",
        "    def __init__(self, input_size=1, hidden_layer_size=100, output_size=1):\n",
        "        super().__init__()\n",
        "        self.hidden_layer_size = hidden_layer_size\n",
        "        self.lstm = nn.LSTM(input_size, hidden_layer_size)\n",
        "        self.linear = nn.Linear(hidden_layer_size, output_size)\n",
        "        self.hidden_cell = (torch.zeros(1,1,self.hidden_layer_size),\n",
        "                            torch.zeros(1,1,self.hidden_layer_size))\n",
        "\n",
        "    def forward(self, input_seq):\n",
        "        lstm_out, self.hidden_cell = self.lstm(input_seq.view(len(input_seq) ,1, -1), self.hidden_cell)\n",
        "        predictions = self.linear(lstm_out.view(len(input_seq), -1))\n",
        "        return predictions[-1]"
      ],
      "execution_count": 7,
      "outputs": []
    },
    {
      "cell_type": "code",
      "metadata": {
        "colab": {
          "base_uri": "https://localhost:8080/"
        },
        "id": "6F5Mb9S5y8X9",
        "outputId": "faff176b-8226-4dd6-cba7-88904715e629"
      },
      "source": [
        "epochs = 150\n",
        "seq_len = 12\n",
        "print_and_save_interval = 1\n",
        "num_batches = len(train_data_normalized) - seq_len\n",
        "\n",
        "model = LSTM().to(device)\n",
        "criterion = nn.L1Loss()\n",
        "optimizer = torch.optim.Adam(model.parameters(), lr=0.001)\n",
        "\n",
        "tr_losses = np.zeros(epochs)\n",
        "\n",
        "print(model)\n",
        "#Training Loop\n",
        "for epoch in range(epochs):\n",
        "    for j in range(num_batches):\n",
        "        # Fetch the batched data and push to GPU\n",
        "        X, y = get_batch(train_data_normalized, seq_len, j)\n",
        "        X = torch.Tensor(X).to(device)\n",
        "        y = torch.Tensor(y).to(device)\n",
        "\n",
        "        # Zero out the gradients and hidden cells\n",
        "        optimizer.zero_grad()\n",
        "        model.hidden_cell = (torch.zeros(1, 1, model.hidden_layer_size).to(device),\n",
        "                        torch.zeros(1, 1, model.hidden_layer_size).to(device))\n",
        "\n",
        "        # Compute predicted value\n",
        "        y_pred = model(X)\n",
        "\n",
        "        # Compute loss and backpropagate\n",
        "        loss = criterion(y_pred, torch.flatten(y))\n",
        "        loss.backward()\n",
        "        optimizer.step()\n",
        "\n",
        "        # Record average loss over each epoch\n",
        "        tr_losses[epoch] += loss.item()/num_batches\n",
        "\n",
        "    # Report loss every few epochs\n",
        "    if epoch % print_and_save_interval == 0:\n",
        "        print ('Epoch [{}/{}], Training Loss: {:.4f}'.format(epoch+1, epochs, tr_losses[epoch]))\n",
        "        \n",
        "\n",
        "print ('Epoch [{}/{}], Training Loss: {:.4f}'.format(epoch+1, epochs, loss.item()))"
      ],
      "execution_count": 12,
      "outputs": [
        {
          "output_type": "stream",
          "text": [
            "LSTM(\n",
            "  (lstm): LSTM(1, 100)\n",
            "  (linear): Linear(in_features=100, out_features=1, bias=True)\n",
            ")\n",
            "Epoch [1/150], Training Loss: 0.0842\n",
            "Epoch [2/150], Training Loss: 0.1590\n",
            "Epoch [3/150], Training Loss: 0.1288\n",
            "Epoch [4/150], Training Loss: 0.0912\n",
            "Epoch [5/150], Training Loss: 0.0837\n",
            "Epoch [6/150], Training Loss: 0.0813\n",
            "Epoch [7/150], Training Loss: 0.0789\n",
            "Epoch [8/150], Training Loss: 0.0768\n",
            "Epoch [9/150], Training Loss: 0.0760\n",
            "Epoch [10/150], Training Loss: 0.0654\n",
            "Epoch [11/150], Training Loss: 0.0593\n",
            "Epoch [12/150], Training Loss: 0.0570\n",
            "Epoch [13/150], Training Loss: 0.0544\n",
            "Epoch [14/150], Training Loss: 0.0498\n",
            "Epoch [15/150], Training Loss: 0.0491\n",
            "Epoch [16/150], Training Loss: 0.0460\n",
            "Epoch [17/150], Training Loss: 0.0453\n",
            "Epoch [18/150], Training Loss: 0.0424\n",
            "Epoch [19/150], Training Loss: 0.0427\n",
            "Epoch [20/150], Training Loss: 0.0406\n",
            "Epoch [21/150], Training Loss: 0.0386\n",
            "Epoch [22/150], Training Loss: 0.0401\n",
            "Epoch [23/150], Training Loss: 0.0378\n",
            "Epoch [24/150], Training Loss: 0.0367\n",
            "Epoch [25/150], Training Loss: 0.0366\n",
            "Epoch [26/150], Training Loss: 0.0350\n",
            "Epoch [27/150], Training Loss: 0.0359\n",
            "Epoch [28/150], Training Loss: 0.0366\n",
            "Epoch [29/150], Training Loss: 0.0357\n",
            "Epoch [30/150], Training Loss: 0.0361\n",
            "Epoch [31/150], Training Loss: 0.0335\n",
            "Epoch [32/150], Training Loss: 0.0353\n",
            "Epoch [33/150], Training Loss: 0.0342\n",
            "Epoch [34/150], Training Loss: 0.0342\n",
            "Epoch [35/150], Training Loss: 0.0344\n",
            "Epoch [36/150], Training Loss: 0.0332\n",
            "Epoch [37/150], Training Loss: 0.0338\n",
            "Epoch [38/150], Training Loss: 0.0334\n",
            "Epoch [39/150], Training Loss: 0.0333\n",
            "Epoch [40/150], Training Loss: 0.0333\n",
            "Epoch [41/150], Training Loss: 0.0324\n",
            "Epoch [42/150], Training Loss: 0.0329\n",
            "Epoch [43/150], Training Loss: 0.0336\n",
            "Epoch [44/150], Training Loss: 0.0330\n",
            "Epoch [45/150], Training Loss: 0.0325\n",
            "Epoch [46/150], Training Loss: 0.0321\n",
            "Epoch [47/150], Training Loss: 0.0325\n",
            "Epoch [48/150], Training Loss: 0.0324\n",
            "Epoch [49/150], Training Loss: 0.0319\n",
            "Epoch [50/150], Training Loss: 0.0320\n",
            "Epoch [51/150], Training Loss: 0.0318\n",
            "Epoch [52/150], Training Loss: 0.0316\n",
            "Epoch [53/150], Training Loss: 0.0325\n",
            "Epoch [54/150], Training Loss: 0.0322\n",
            "Epoch [55/150], Training Loss: 0.0326\n",
            "Epoch [56/150], Training Loss: 0.0311\n",
            "Epoch [57/150], Training Loss: 0.0322\n",
            "Epoch [58/150], Training Loss: 0.0317\n",
            "Epoch [59/150], Training Loss: 0.0322\n",
            "Epoch [60/150], Training Loss: 0.0320\n",
            "Epoch [61/150], Training Loss: 0.0320\n",
            "Epoch [62/150], Training Loss: 0.0321\n",
            "Epoch [63/150], Training Loss: 0.0320\n",
            "Epoch [64/150], Training Loss: 0.0316\n",
            "Epoch [65/150], Training Loss: 0.0314\n",
            "Epoch [66/150], Training Loss: 0.0324\n",
            "Epoch [67/150], Training Loss: 0.0317\n",
            "Epoch [68/150], Training Loss: 0.0319\n",
            "Epoch [69/150], Training Loss: 0.0315\n",
            "Epoch [70/150], Training Loss: 0.0321\n",
            "Epoch [71/150], Training Loss: 0.0320\n",
            "Epoch [72/150], Training Loss: 0.0308\n",
            "Epoch [73/150], Training Loss: 0.0320\n",
            "Epoch [74/150], Training Loss: 0.0311\n",
            "Epoch [75/150], Training Loss: 0.0327\n",
            "Epoch [76/150], Training Loss: 0.0312\n",
            "Epoch [77/150], Training Loss: 0.0315\n",
            "Epoch [78/150], Training Loss: 0.0305\n",
            "Epoch [79/150], Training Loss: 0.0310\n",
            "Epoch [80/150], Training Loss: 0.0314\n",
            "Epoch [81/150], Training Loss: 0.0316\n",
            "Epoch [82/150], Training Loss: 0.0310\n",
            "Epoch [83/150], Training Loss: 0.0321\n",
            "Epoch [84/150], Training Loss: 0.0313\n",
            "Epoch [85/150], Training Loss: 0.0316\n",
            "Epoch [86/150], Training Loss: 0.0323\n",
            "Epoch [87/150], Training Loss: 0.0313\n",
            "Epoch [88/150], Training Loss: 0.0312\n",
            "Epoch [89/150], Training Loss: 0.0320\n",
            "Epoch [90/150], Training Loss: 0.0307\n",
            "Epoch [91/150], Training Loss: 0.0314\n",
            "Epoch [92/150], Training Loss: 0.0310\n",
            "Epoch [93/150], Training Loss: 0.0302\n",
            "Epoch [94/150], Training Loss: 0.0318\n",
            "Epoch [95/150], Training Loss: 0.0306\n",
            "Epoch [96/150], Training Loss: 0.0307\n",
            "Epoch [97/150], Training Loss: 0.0317\n",
            "Epoch [98/150], Training Loss: 0.0303\n",
            "Epoch [99/150], Training Loss: 0.0310\n",
            "Epoch [100/150], Training Loss: 0.0303\n",
            "Epoch [101/150], Training Loss: 0.0311\n",
            "Epoch [102/150], Training Loss: 0.0317\n",
            "Epoch [103/150], Training Loss: 0.0312\n",
            "Epoch [104/150], Training Loss: 0.0312\n",
            "Epoch [105/150], Training Loss: 0.0308\n",
            "Epoch [106/150], Training Loss: 0.0309\n",
            "Epoch [107/150], Training Loss: 0.0305\n",
            "Epoch [108/150], Training Loss: 0.0307\n",
            "Epoch [109/150], Training Loss: 0.0308\n",
            "Epoch [110/150], Training Loss: 0.0305\n",
            "Epoch [111/150], Training Loss: 0.0308\n",
            "Epoch [112/150], Training Loss: 0.0306\n",
            "Epoch [113/150], Training Loss: 0.0307\n",
            "Epoch [114/150], Training Loss: 0.0307\n",
            "Epoch [115/150], Training Loss: 0.0307\n",
            "Epoch [116/150], Training Loss: 0.0306\n",
            "Epoch [117/150], Training Loss: 0.0305\n",
            "Epoch [118/150], Training Loss: 0.0312\n",
            "Epoch [119/150], Training Loss: 0.0308\n",
            "Epoch [120/150], Training Loss: 0.0309\n",
            "Epoch [121/150], Training Loss: 0.0302\n",
            "Epoch [122/150], Training Loss: 0.0306\n",
            "Epoch [123/150], Training Loss: 0.0310\n",
            "Epoch [124/150], Training Loss: 0.0301\n",
            "Epoch [125/150], Training Loss: 0.0300\n",
            "Epoch [126/150], Training Loss: 0.0309\n",
            "Epoch [127/150], Training Loss: 0.0304\n",
            "Epoch [128/150], Training Loss: 0.0303\n",
            "Epoch [129/150], Training Loss: 0.0305\n",
            "Epoch [130/150], Training Loss: 0.0296\n",
            "Epoch [131/150], Training Loss: 0.0301\n",
            "Epoch [132/150], Training Loss: 0.0300\n",
            "Epoch [133/150], Training Loss: 0.0302\n",
            "Epoch [134/150], Training Loss: 0.0300\n",
            "Epoch [135/150], Training Loss: 0.0298\n",
            "Epoch [136/150], Training Loss: 0.0295\n",
            "Epoch [137/150], Training Loss: 0.0297\n",
            "Epoch [138/150], Training Loss: 0.0296\n",
            "Epoch [139/150], Training Loss: 0.0297\n",
            "Epoch [140/150], Training Loss: 0.0300\n",
            "Epoch [141/150], Training Loss: 0.0303\n",
            "Epoch [142/150], Training Loss: 0.0297\n",
            "Epoch [143/150], Training Loss: 0.0306\n",
            "Epoch [144/150], Training Loss: 0.0289\n",
            "Epoch [145/150], Training Loss: 0.0292\n",
            "Epoch [146/150], Training Loss: 0.0298\n",
            "Epoch [147/150], Training Loss: 0.0301\n",
            "Epoch [148/150], Training Loss: 0.0297\n",
            "Epoch [149/150], Training Loss: 0.0294\n",
            "Epoch [150/150], Training Loss: 0.0294\n",
            "Epoch [150/150], Training Loss: 0.0388\n"
          ],
          "name": "stdout"
        }
      ]
    },
    {
      "cell_type": "code",
      "metadata": {
        "colab": {
          "base_uri": "https://localhost:8080/",
          "height": 395
        },
        "id": "f2Lm4ghVUec_",
        "outputId": "da05af94-ccf1-4dc3-93fc-dec628f0127f"
      },
      "source": [
        "plt.plot(tr_losses[1:]);\r\n",
        "plt.title('Training Loss on AAPL for 150 Epochs')\r\n",
        "plt.xlabel('Epochs')\r\n",
        "plt.ylabel('Loss (L1 Distance)')"
      ],
      "execution_count": 20,
      "outputs": [
        {
          "output_type": "execute_result",
          "data": {
            "text/plain": [
              "Text(0, 0.5, 'Loss (L1 Distance)')"
            ]
          },
          "metadata": {
            "tags": []
          },
          "execution_count": 20
        },
        {
          "output_type": "display_data",
          "data": {
            "image/png": "[encoded data removed]",
            "text/plain": [
              "<Figure size 576x396 with 1 Axes>"
            ]
          },
          "metadata": {
            "tags": []
          }
        }
      ]
    },
    {
      "cell_type": "code",
      "metadata": {
        "id": "yV0X1QMCzVyd"
      },
      "source": [
        "num_preds = 12\n",
        "\n",
        "test_inputs = np.ndarray.flatten(train_data_normalized[-seq_len:]).tolist()\n",
        "\n",
        "model.eval()\n",
        "\n",
        "for i in range(num_preds):\n",
        "    seq = torch.FloatTensor(test_inputs[-seq_len:]).to(device)\n",
        "    with torch.no_grad():\n",
        "        model.hidden = (torch.zeros(1, 1, model.hidden_layer_size).to(device),\n",
        "                        torch.zeros(1, 1, model.hidden_layer_size).to(device))\n",
        "        test_inputs.append(model(seq).item())"
      ],
      "execution_count": 21,
      "outputs": []
    },
    {
      "cell_type": "code",
      "metadata": {
        "id": "IHJ5K4dI6aJz"
      },
      "source": [
        "actual_predictions = scaler.inverse_transform(np.array(test_inputs[seq_len:] ).reshape(-1, 1))\n"
      ],
      "execution_count": 22,
      "outputs": []
    },
    {
      "cell_type": "code",
      "metadata": {
        "colab": {
          "base_uri": "https://localhost:8080/",
          "height": 379
        },
        "id": "rR4jTS3oPydW",
        "outputId": "ab9a752b-fdf6-461e-87d2-a397385a154b"
      },
      "source": [
        "ts = np.arange(0,train_size + test_size,1)\n",
        "plt.plot(ts[:train_size],train_data)\n",
        "plt.plot(ts[-test_size:],actual_predictions)\n",
        "plt.plot(ts[-test_size:],stock_np[-test_size:])\n",
        "plt.xlabel('Time (days)')\n",
        "plt.ylabel('Opening Price')\n",
        "plt.legend(['Price History', 'Price Prediction (Based on 12 prev days)','Real Price Outcome'])"
      ],
      "execution_count": 28,
      "outputs": [
        {
          "output_type": "execute_result",
          "data": {
            "text/plain": [
              "<matplotlib.legend.Legend at 0x7fbfc57f5780>"
            ]
          },
          "metadata": {
            "tags": []
          },
          "execution_count": 28
        },
        {
          "output_type": "display_data",
          "data": {
            "image/png": "[encoded data removed]",
            "text/plain": [
              "<Figure size 576x396 with 1 Axes>"
            ]
          },
          "metadata": {
            "tags": []
          }
        }
      ]
    },
    {
      "cell_type": "code",
      "metadata": {
        "id": "C1Tz2MyUW80n"
      },
      "source": [
        ""
      ],
      "execution_count": null,
      "outputs": []
    }
  ]
}