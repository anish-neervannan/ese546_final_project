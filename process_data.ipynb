{
 "metadata": {
  "language_info": {
   "codemirror_mode": {
    "name": "ipython",
    "version": 3
   },
   "file_extension": ".py",
   "mimetype": "text/x-python",
   "name": "python",
   "nbconvert_exporter": "python",
   "pygments_lexer": "ipython3",
   "version": "3.6.10-final"
  },
  "orig_nbformat": 2,
  "kernelspec": {
   "name": "python3",
   "display_name": "Python 3",
   "language": "python"
  }
 },
 "nbformat": 4,
 "nbformat_minor": 2,
 "cells": [
  {
   "cell_type": "code",
   "execution_count": 7,
   "metadata": {},
   "outputs": [],
   "source": [
    "import pandas as pd\n",
    "import numpy as np"
   ]
  },
  {
   "cell_type": "code",
   "execution_count": 2,
   "metadata": {},
   "outputs": [],
   "source": [
    "# Get latest S&P 500 list from wikipedia\n",
    "table = pd.read_html('https://en.wikipedia.org/wiki/List_of_S%26P_500_companies')\n",
    "df = table[0]\n",
    "\n",
    "# Uncomment to save\n",
    "# df.to_csv(\"S&P500.csv\", columns=['Symbol', 'GICS Sector'])"
   ]
  },
  {
   "cell_type": "code",
   "execution_count": 30,
   "metadata": {
    "tags": []
   },
   "outputs": [
    {
     "output_type": "stream",
     "name": "stdout",
     "text": [
      "Total Stocks: 466\n"
     ]
    }
   ],
   "source": [
    "res = {}\n",
    "for index, row in df.iterrows():\n",
    "    if row['GICS Sector'] not in res:\n",
    "        res[row['GICS Sector']] = [row['Symbol']]\n",
    "    else:\n",
    "        res[row['GICS Sector']].append(row['Symbol'])\n",
    "\n",
    "\n",
    "num_total_stocks = 0\n",
    "num_days = 750\n",
    "raw_sector_data = {}\n",
    "for sector in res:\n",
    "    sector_data = []\n",
    "    num_sector_stocks = 0\n",
    "    for ticker in res[sector]:\n",
    "        try:\n",
    "            data = pd.read_csv(f\"Stocks/{ticker.lower()}.us.txt\")\n",
    "            stock_data = data.iloc[-1 * num_days:,]['Open'].to_numpy()\n",
    "            \n",
    "            if (stock_data.shape[0] == num_days):\n",
    "                sector_data.append(stock_data)\n",
    "                num_sector_stocks += 1\n",
    "                num_total_stocks += 1\n",
    "        except:\n",
    "            pass\n",
    "    sector_data = np.concatenate(sector_data, axis=0).reshape((num_sector_stocks, num_days))\n",
    "    np.save(f\"Data/train_and_val_{sector}\", sector_data[0: int(num_days * 0.8)])\n",
    "    np.save(f\"Data/test_{sector}\", sector_data[int(num_days * 0.8):,])\n",
    "\n",
    "print(f\"Total Stocks: {num_total_stocks}\")"
   ]
  },
  {
   "cell_type": "code",
   "execution_count": null,
   "metadata": {},
   "outputs": [],
   "source": []
  }
 ]
}